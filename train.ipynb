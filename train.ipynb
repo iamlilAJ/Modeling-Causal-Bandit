{
 "cells": [
  {
   "cell_type": "code",
   "execution_count": 4,
   "outputs": [],
   "source": [],
   "metadata": {
    "collapsed": false,
    "ExecuteTime": {
     "end_time": "2023-08-16T13:53:58.871982Z",
     "start_time": "2023-08-16T13:53:58.722368Z"
    }
   }
  },
  {
   "cell_type": "code",
   "execution_count": 5,
   "outputs": [],
   "source": [
    "import yaml\n",
    "from run_experiment import run_exp\n",
    "from matplotlib import pyplot as plt\n",
    "import numpy as np\n",
    "np.random.seed(42)\n",
    "\n",
    "\n",
    "\n",
    "def plot_comparison(a, b, c):\n",
    "    # Convert to NumPy arrays\n",
    "    a = np.array(a)\n",
    "    b = np.array(b)\n",
    "    c = np.array(c)\n",
    "    # Calculate mean and standard deviation for a and b\n",
    "    a_mean = a.mean(axis=0)\n",
    "    a_std = a.std(axis=0)\n",
    "    b_mean = b.mean(axis=0)\n",
    "    b_std = b.std(axis=0)\n",
    "    c_mean = c.mean(axis=0)\n",
    "    c_std = c.std(axis=0)\n",
    "\n",
    "    # Plot mean lines\n",
    "    plt.plot(a_mean, label='baseline', color='green')\n",
    "    plt.text(len(a_mean) - 1, a_mean[-1], f'{a_mean[-1]:.1f}', verticalalignment='bottom', horizontalalignment='right')\n",
    "    # Shade areas for standard deviations\n",
    "    plt.fill_between(range(len(a_mean)), a_mean - a_std, a_mean + a_std, alpha=0.2)\n",
    "\n",
    "    if len(b[0]) != 0:\n",
    "        plt.plot(b_mean, label='model-based LinUCB', color='blue')\n",
    "        plt.text(len(b_mean) - 1, b_mean[-1], f'{b_mean[-1]:.1f}', verticalalignment='bottom',\n",
    "                 horizontalalignment='right')\n",
    "        plt.fill_between(range(len(b_mean)), b_mean - b_std, b_mean + b_std, alpha=0.2)\n",
    "\n",
    "    if len(c[0]) != 0:\n",
    "        plt.plot(c_mean, label='online model-based LinUCB', color='yellow')\n",
    "        plt.text(len(c_mean) - 1, c_mean[-1], f'{c_mean[-1]:.1f}', verticalalignment='bottom',\n",
    "                 horizontalalignment='right')\n",
    "        plt.fill_between(range(len(c_mean)), c_mean - c_std, c_mean + c_std, alpha=0.2)\n",
    "\n",
    "    plt.xlabel('round t')\n",
    "    plt.ylabel('cummulative regret')\n",
    "    plt.legend()\n",
    "    plt.show()"
   ],
   "metadata": {
    "collapsed": false,
    "ExecuteTime": {
     "end_time": "2023-08-16T13:53:58.876133Z",
     "start_time": "2023-08-16T13:53:58.771683Z"
    }
   }
  },
  {
   "cell_type": "code",
   "execution_count": 6,
   "outputs": [
    {
     "name": "stdout",
     "output_type": "stream",
     "text": [
      "{'n_rounds': 10, 'num_node': 8, 'train_rounds': 600, 'online_train_rounds': 500, 'T': 100, 'test_rounds': 500, 'num_data': 1000, 'alpha': 1, 'given_data': False}\n",
      "      x_1  x_2  x_3  x_4  x_5  x_6  x_7  Y\n",
      "526     1    1    0    0    1    1    0  0\n",
      "354     1    1    1    1    0    0    1  1\n",
      "168     0    0    0    0    0    0    0  0\n",
      "135     1    1    0    0    0    0    0  1\n",
      "937     0    0    0    0    0    0    0  0\n",
      "...   ...  ...  ...  ...  ...  ...  ... ..\n",
      "531     0    0    0    0    0    0    0  0\n",
      "1279    1    1    1    1    0    0    0  0\n",
      "226     0    0    0    0    0    0    0  0\n",
      "1097    1    1    0    1    1    0    0  1\n",
      "228     1    1    1    1    1    1    0  1\n",
      "\n",
      "[1000 rows x 8 columns]\n"
     ]
    },
    {
     "name": "stderr",
     "output_type": "stream",
     "text": [
      "  0%|          | 0/10 [00:06<?, ?it/s]\n"
     ]
    },
    {
     "ename": "KeyboardInterrupt",
     "evalue": "",
     "output_type": "error",
     "traceback": [
      "\u001B[0;31m---------------------------------------------------------------------------\u001B[0m",
      "\u001B[0;31mKeyboardInterrupt\u001B[0m                         Traceback (most recent call last)",
      "Input \u001B[0;32mIn [6]\u001B[0m, in \u001B[0;36m<cell line: 5>\u001B[0;34m()\u001B[0m\n\u001B[1;32m      2\u001B[0m     config \u001B[38;5;241m=\u001B[39m yaml\u001B[38;5;241m.\u001B[39mload(file, Loader\u001B[38;5;241m=\u001B[39myaml\u001B[38;5;241m.\u001B[39mFullLoader)\n\u001B[1;32m      4\u001B[0m config[\u001B[38;5;124m'\u001B[39m\u001B[38;5;124mnum_data\u001B[39m\u001B[38;5;124m'\u001B[39m] \u001B[38;5;241m=\u001B[39m \u001B[38;5;241m1000\u001B[39m\n\u001B[0;32m----> 5\u001B[0m a,b,c \u001B[38;5;241m=\u001B[39m \u001B[43mrun_exp\u001B[49m\u001B[43m(\u001B[49m\u001B[43mconfig\u001B[49m\u001B[43m)\u001B[49m\n",
      "File \u001B[0;32m~/PycharmProjects/pythonProject19/CAUSAL/causal_bandit/model/run_experiment.py:45\u001B[0m, in \u001B[0;36mrun_exp\u001B[0;34m(config)\u001B[0m\n\u001B[1;32m     43\u001B[0m \u001B[38;5;28;01mif\u001B[39;00m given_data:\n\u001B[1;32m     44\u001B[0m     trainer \u001B[38;5;241m=\u001B[39m Trainer(bmb, ucb)\n\u001B[0;32m---> 45\u001B[0m     \u001B[43mtrainer\u001B[49m\u001B[38;5;241;43m.\u001B[39;49m\u001B[43mtrain\u001B[49m\u001B[43m(\u001B[49m\u001B[43mn_rounds\u001B[49m\u001B[38;5;241;43m=\u001B[39;49m\u001B[43mtrain_rounds\u001B[49m\u001B[43m)\u001B[49m\n\u001B[1;32m     46\u001B[0m     algo \u001B[38;5;241m=\u001B[39m copy\u001B[38;5;241m.\u001B[39mcopy(trainer\u001B[38;5;241m.\u001B[39malgo)\n\u001B[1;32m     47\u001B[0m \u001B[38;5;28;01melse\u001B[39;00m:\n",
      "File \u001B[0;32m~/PycharmProjects/pythonProject19/CAUSAL/causal_bandit/model/Train.py:31\u001B[0m, in \u001B[0;36mTrainer.train\u001B[0;34m(self, n_rounds, show_progress)\u001B[0m\n\u001B[1;32m     28\u001B[0m context_list \u001B[38;5;241m=\u001B[39m rerank_and_transform(context)\n\u001B[1;32m     30\u001B[0m selected_arm \u001B[38;5;241m=\u001B[39m \u001B[38;5;28mself\u001B[39m\u001B[38;5;241m.\u001B[39malgo\u001B[38;5;241m.\u001B[39mselect_arm(context_list)\n\u001B[0;32m---> 31\u001B[0m intervened_dist, reward \u001B[38;5;241m=\u001B[39m \u001B[38;5;28;43mself\u001B[39;49m\u001B[38;5;241;43m.\u001B[39;49m\u001B[43mmodel\u001B[49m\u001B[38;5;241;43m.\u001B[39;49m\u001B[43mintervention\u001B[49m\u001B[43m(\u001B[49m\u001B[43mselected_arm\u001B[49m\u001B[43m,\u001B[49m\u001B[43m \u001B[49m\u001B[43mcontext\u001B[49m\u001B[43m)\u001B[49m\n\u001B[1;32m     33\u001B[0m \u001B[38;5;28mself\u001B[39m\u001B[38;5;241m.\u001B[39malgo\u001B[38;5;241m.\u001B[39mupdate(selected_arm, context_list, reward)\n",
      "File \u001B[0;32m~/PycharmProjects/pythonProject19/CAUSAL/causal_bandit/model/learn_bayesian_network.py:57\u001B[0m, in \u001B[0;36mBayesian_Model_Bandit.intervention\u001B[0;34m(self, do_idx, context, n_samples)\u001B[0m\n\u001B[1;32m     54\u001B[0m     \u001B[38;5;28;01mreturn\u001B[39;00m intervened_dist\n\u001B[1;32m     55\u001B[0m \u001B[38;5;28;01melse\u001B[39;00m:\n\u001B[0;32m---> 57\u001B[0m     intervened_dist \u001B[38;5;241m=\u001B[39m \u001B[38;5;28;43mself\u001B[39;49m\u001B[38;5;241;43m.\u001B[39;49m\u001B[43msimulate\u001B[49m\u001B[43m(\u001B[49m\u001B[43m \u001B[49m\u001B[43mn_samples\u001B[49m\u001B[38;5;241;43m=\u001B[39;49m\u001B[38;5;241;43m1\u001B[39;49m\u001B[43m,\u001B[49m\u001B[43m \u001B[49m\u001B[43mdo\u001B[49m\u001B[38;5;241;43m=\u001B[39;49m\u001B[43m \u001B[49m\u001B[43m{\u001B[49m\u001B[43mnode\u001B[49m\u001B[43m \u001B[49m\u001B[43m:\u001B[49m\u001B[43m \u001B[49m\u001B[38;5;241;43m1\u001B[39;49m\u001B[43m}\u001B[49m\u001B[43m,\u001B[49m\u001B[43mevidence\u001B[49m\u001B[38;5;241;43m=\u001B[39;49m\u001B[43m \u001B[49m\u001B[43mevidence\u001B[49m\u001B[43m,\u001B[49m\u001B[43m \u001B[49m\u001B[43mshow_progress\u001B[49m\u001B[38;5;241;43m=\u001B[39;49m\u001B[38;5;28;43;01mFalse\u001B[39;49;00m\u001B[43m)\u001B[49m\n\u001B[1;32m     58\u001B[0m     intervened_dist \u001B[38;5;241m=\u001B[39m intervened_dist\u001B[38;5;241m.\u001B[39miloc[\u001B[38;5;241m0\u001B[39m]\u001B[38;5;241m.\u001B[39mto_dict()\n\u001B[1;32m     59\u001B[0m     reward \u001B[38;5;241m=\u001B[39m intervened_dist[\u001B[38;5;124m'\u001B[39m\u001B[38;5;124mY\u001B[39m\u001B[38;5;124m'\u001B[39m]\n",
      "File \u001B[0;32m~/opt/anaconda3/lib/python3.9/site-packages/pgmpy/models/BayesianNetwork.py:1313\u001B[0m, in \u001B[0;36mBayesianNetwork.simulate\u001B[0;34m(self, n_samples, do, evidence, virtual_evidence, virtual_intervention, include_latents, partial_samples, seed, show_progress)\u001B[0m\n\u001B[1;32m   1303\u001B[0m     samples \u001B[38;5;241m=\u001B[39m BayesianModelSampling(model)\u001B[38;5;241m.\u001B[39mforward_sample(\n\u001B[1;32m   1304\u001B[0m         size\u001B[38;5;241m=\u001B[39mn_samples,\n\u001B[1;32m   1305\u001B[0m         include_latents\u001B[38;5;241m=\u001B[39minclude_latents,\n\u001B[0;32m   (...)\u001B[0m\n\u001B[1;32m   1308\u001B[0m         partial_samples\u001B[38;5;241m=\u001B[39mpartial_samples,\n\u001B[1;32m   1309\u001B[0m     )\n\u001B[1;32m   1311\u001B[0m \u001B[38;5;66;03m# Step 4: If evidence; do a rejection sampling\u001B[39;00m\n\u001B[1;32m   1312\u001B[0m \u001B[38;5;28;01melse\u001B[39;00m:\n\u001B[0;32m-> 1313\u001B[0m     samples \u001B[38;5;241m=\u001B[39m \u001B[43mBayesianModelSampling\u001B[49m\u001B[43m(\u001B[49m\u001B[43mmodel\u001B[49m\u001B[43m)\u001B[49m\u001B[38;5;241;43m.\u001B[39;49m\u001B[43mrejection_sample\u001B[49m\u001B[43m(\u001B[49m\n\u001B[1;32m   1314\u001B[0m \u001B[43m        \u001B[49m\u001B[43msize\u001B[49m\u001B[38;5;241;43m=\u001B[39;49m\u001B[43mn_samples\u001B[49m\u001B[43m,\u001B[49m\n\u001B[1;32m   1315\u001B[0m \u001B[43m        \u001B[49m\u001B[43mevidence\u001B[49m\u001B[38;5;241;43m=\u001B[39;49m\u001B[43m[\u001B[49m\u001B[43m(\u001B[49m\u001B[43mk\u001B[49m\u001B[43m,\u001B[49m\u001B[43m \u001B[49m\u001B[43mv\u001B[49m\u001B[43m)\u001B[49m\u001B[43m \u001B[49m\u001B[38;5;28;43;01mfor\u001B[39;49;00m\u001B[43m \u001B[49m\u001B[43mk\u001B[49m\u001B[43m,\u001B[49m\u001B[43m \u001B[49m\u001B[43mv\u001B[49m\u001B[43m \u001B[49m\u001B[38;5;129;43;01min\u001B[39;49;00m\u001B[43m \u001B[49m\u001B[43mevidence\u001B[49m\u001B[38;5;241;43m.\u001B[39;49m\u001B[43mitems\u001B[49m\u001B[43m(\u001B[49m\u001B[43m)\u001B[49m\u001B[43m]\u001B[49m\u001B[43m,\u001B[49m\n\u001B[1;32m   1316\u001B[0m \u001B[43m        \u001B[49m\u001B[43minclude_latents\u001B[49m\u001B[38;5;241;43m=\u001B[39;49m\u001B[43minclude_latents\u001B[49m\u001B[43m,\u001B[49m\n\u001B[1;32m   1317\u001B[0m \u001B[43m        \u001B[49m\u001B[43mseed\u001B[49m\u001B[38;5;241;43m=\u001B[39;49m\u001B[43mseed\u001B[49m\u001B[43m,\u001B[49m\n\u001B[1;32m   1318\u001B[0m \u001B[43m        \u001B[49m\u001B[43mshow_progress\u001B[49m\u001B[38;5;241;43m=\u001B[39;49m\u001B[43mshow_progress\u001B[49m\u001B[43m,\u001B[49m\n\u001B[1;32m   1319\u001B[0m \u001B[43m        \u001B[49m\u001B[43mpartial_samples\u001B[49m\u001B[38;5;241;43m=\u001B[39;49m\u001B[43mpartial_samples\u001B[49m\u001B[43m,\u001B[49m\n\u001B[1;32m   1320\u001B[0m \u001B[43m    \u001B[49m\u001B[43m)\u001B[49m\n\u001B[1;32m   1322\u001B[0m \u001B[38;5;66;03m# Step 5: Postprocess and return\u001B[39;00m\n\u001B[1;32m   1323\u001B[0m \u001B[38;5;28;01mif\u001B[39;00m include_latents:\n",
      "File \u001B[0;32m~/opt/anaconda3/lib/python3.9/site-packages/pgmpy/sampling/Sampling.py:226\u001B[0m, in \u001B[0;36mBayesianModelSampling.rejection_sample\u001B[0;34m(self, evidence, size, include_latents, seed, show_progress, partial_samples)\u001B[0m\n\u001B[1;32m    218\u001B[0m _sampled \u001B[38;5;241m=\u001B[39m \u001B[38;5;28mself\u001B[39m\u001B[38;5;241m.\u001B[39mforward_sample(\n\u001B[1;32m    219\u001B[0m     size\u001B[38;5;241m=\u001B[39m_size,\n\u001B[1;32m    220\u001B[0m     include_latents\u001B[38;5;241m=\u001B[39m\u001B[38;5;28;01mTrue\u001B[39;00m,\n\u001B[1;32m    221\u001B[0m     show_progress\u001B[38;5;241m=\u001B[39m\u001B[38;5;28;01mFalse\u001B[39;00m,\n\u001B[1;32m    222\u001B[0m     partial_samples\u001B[38;5;241m=\u001B[39mpartial_samples,\n\u001B[1;32m    223\u001B[0m )\n\u001B[1;32m    225\u001B[0m \u001B[38;5;28;01mfor\u001B[39;00m var, state \u001B[38;5;129;01min\u001B[39;00m evidence:\n\u001B[0;32m--> 226\u001B[0m     _sampled \u001B[38;5;241m=\u001B[39m _sampled[\u001B[43m_sampled\u001B[49m\u001B[43m[\u001B[49m\u001B[43mvar\u001B[49m\u001B[43m]\u001B[49m \u001B[38;5;241m==\u001B[39m state]\n\u001B[1;32m    228\u001B[0m prob \u001B[38;5;241m=\u001B[39m \u001B[38;5;28mmax\u001B[39m(\u001B[38;5;28mlen\u001B[39m(_sampled) \u001B[38;5;241m/\u001B[39m _size, \u001B[38;5;241m0.01\u001B[39m)\n\u001B[1;32m    229\u001B[0m sampled \u001B[38;5;241m=\u001B[39m pd\u001B[38;5;241m.\u001B[39mconcat([sampled, _sampled], axis\u001B[38;5;241m=\u001B[39m\u001B[38;5;241m0\u001B[39m, join\u001B[38;5;241m=\u001B[39m\u001B[38;5;124m\"\u001B[39m\u001B[38;5;124mouter\u001B[39m\u001B[38;5;124m\"\u001B[39m)\u001B[38;5;241m.\u001B[39miloc[\n\u001B[1;32m    230\u001B[0m     :size, :\n\u001B[1;32m    231\u001B[0m ]\n",
      "File \u001B[0;32m~/opt/anaconda3/lib/python3.9/site-packages/pandas/core/frame.py:3474\u001B[0m, in \u001B[0;36mDataFrame.__getitem__\u001B[0;34m(self, key)\u001B[0m\n\u001B[1;32m   3472\u001B[0m         \u001B[38;5;28;01mif\u001B[39;00m \u001B[38;5;28misinstance\u001B[39m(\u001B[38;5;28mself\u001B[39m\u001B[38;5;241m.\u001B[39mcolumns, MultiIndex):\n\u001B[1;32m   3473\u001B[0m             \u001B[38;5;28;01mreturn\u001B[39;00m \u001B[38;5;28mself\u001B[39m\u001B[38;5;241m.\u001B[39m_getitem_multilevel(key)\n\u001B[0;32m-> 3474\u001B[0m         \u001B[38;5;28;01mreturn\u001B[39;00m \u001B[38;5;28;43mself\u001B[39;49m\u001B[38;5;241;43m.\u001B[39;49m\u001B[43m_get_item_cache\u001B[49m\u001B[43m(\u001B[49m\u001B[43mkey\u001B[49m\u001B[43m)\u001B[49m\n\u001B[1;32m   3476\u001B[0m \u001B[38;5;66;03m# Do we have a slicer (on rows)?\u001B[39;00m\n\u001B[1;32m   3477\u001B[0m indexer \u001B[38;5;241m=\u001B[39m convert_to_index_sliceable(\u001B[38;5;28mself\u001B[39m, key)\n",
      "File \u001B[0;32m~/opt/anaconda3/lib/python3.9/site-packages/pandas/core/frame.py:3932\u001B[0m, in \u001B[0;36mDataFrame._get_item_cache\u001B[0;34m(self, item)\u001B[0m\n\u001B[1;32m   3927\u001B[0m \u001B[38;5;28;01mif\u001B[39;00m res \u001B[38;5;129;01mis\u001B[39;00m \u001B[38;5;28;01mNone\u001B[39;00m:\n\u001B[1;32m   3928\u001B[0m     \u001B[38;5;66;03m# All places that call _get_item_cache have unique columns,\u001B[39;00m\n\u001B[1;32m   3929\u001B[0m     \u001B[38;5;66;03m#  pending resolution of GH#33047\u001B[39;00m\n\u001B[1;32m   3931\u001B[0m     loc \u001B[38;5;241m=\u001B[39m \u001B[38;5;28mself\u001B[39m\u001B[38;5;241m.\u001B[39mcolumns\u001B[38;5;241m.\u001B[39mget_loc(item)\n\u001B[0;32m-> 3932\u001B[0m     res \u001B[38;5;241m=\u001B[39m \u001B[38;5;28;43mself\u001B[39;49m\u001B[38;5;241;43m.\u001B[39;49m\u001B[43m_ixs\u001B[49m\u001B[43m(\u001B[49m\u001B[43mloc\u001B[49m\u001B[43m,\u001B[49m\u001B[43m \u001B[49m\u001B[43maxis\u001B[49m\u001B[38;5;241;43m=\u001B[39;49m\u001B[38;5;241;43m1\u001B[39;49m\u001B[43m)\u001B[49m\n\u001B[1;32m   3934\u001B[0m     cache[item] \u001B[38;5;241m=\u001B[39m res\n\u001B[1;32m   3936\u001B[0m     \u001B[38;5;66;03m# for a chain\u001B[39;00m\n",
      "File \u001B[0;32m~/opt/anaconda3/lib/python3.9/site-packages/pandas/core/frame.py:3442\u001B[0m, in \u001B[0;36mDataFrame._ixs\u001B[0;34m(self, i, axis)\u001B[0m\n\u001B[1;32m   3439\u001B[0m label \u001B[38;5;241m=\u001B[39m \u001B[38;5;28mself\u001B[39m\u001B[38;5;241m.\u001B[39mcolumns[i]\n\u001B[1;32m   3441\u001B[0m col_mgr \u001B[38;5;241m=\u001B[39m \u001B[38;5;28mself\u001B[39m\u001B[38;5;241m.\u001B[39m_mgr\u001B[38;5;241m.\u001B[39miget(i)\n\u001B[0;32m-> 3442\u001B[0m result \u001B[38;5;241m=\u001B[39m \u001B[38;5;28;43mself\u001B[39;49m\u001B[38;5;241;43m.\u001B[39;49m\u001B[43m_box_col_values\u001B[49m\u001B[43m(\u001B[49m\u001B[43mcol_mgr\u001B[49m\u001B[43m,\u001B[49m\u001B[43m \u001B[49m\u001B[43mi\u001B[49m\u001B[43m)\u001B[49m\n\u001B[1;32m   3444\u001B[0m \u001B[38;5;66;03m# this is a cached value, mark it so\u001B[39;00m\n\u001B[1;32m   3445\u001B[0m result\u001B[38;5;241m.\u001B[39m_set_as_cached(label, \u001B[38;5;28mself\u001B[39m)\n",
      "File \u001B[0;32m~/opt/anaconda3/lib/python3.9/site-packages/pandas/core/frame.py:3915\u001B[0m, in \u001B[0;36mDataFrame._box_col_values\u001B[0;34m(self, values, loc)\u001B[0m\n\u001B[1;32m   3913\u001B[0m klass \u001B[38;5;241m=\u001B[39m \u001B[38;5;28mself\u001B[39m\u001B[38;5;241m.\u001B[39m_constructor_sliced\n\u001B[1;32m   3914\u001B[0m \u001B[38;5;66;03m# We get index=self.index bc values is a SingleDataManager\u001B[39;00m\n\u001B[0;32m-> 3915\u001B[0m \u001B[38;5;28;01mreturn\u001B[39;00m \u001B[43mklass\u001B[49m\u001B[43m(\u001B[49m\u001B[43mvalues\u001B[49m\u001B[43m,\u001B[49m\u001B[43m \u001B[49m\u001B[43mname\u001B[49m\u001B[38;5;241;43m=\u001B[39;49m\u001B[43mname\u001B[49m\u001B[43m,\u001B[49m\u001B[43m \u001B[49m\u001B[43mfastpath\u001B[49m\u001B[38;5;241;43m=\u001B[39;49m\u001B[38;5;28;43;01mTrue\u001B[39;49;00m\u001B[43m)\u001B[49m\u001B[38;5;241m.\u001B[39m__finalize__(\u001B[38;5;28mself\u001B[39m)\n",
      "File \u001B[0;32m~/opt/anaconda3/lib/python3.9/site-packages/pandas/core/series.py:340\u001B[0m, in \u001B[0;36mSeries.__init__\u001B[0;34m(self, data, index, dtype, name, copy, fastpath)\u001B[0m\n\u001B[1;32m    323\u001B[0m \u001B[38;5;28;01mdef\u001B[39;00m \u001B[38;5;21m__init__\u001B[39m(\n\u001B[1;32m    324\u001B[0m     \u001B[38;5;28mself\u001B[39m,\n\u001B[1;32m    325\u001B[0m     data\u001B[38;5;241m=\u001B[39m\u001B[38;5;28;01mNone\u001B[39;00m,\n\u001B[0;32m   (...)\u001B[0m\n\u001B[1;32m    330\u001B[0m     fastpath: \u001B[38;5;28mbool\u001B[39m \u001B[38;5;241m=\u001B[39m \u001B[38;5;28;01mFalse\u001B[39;00m,\n\u001B[1;32m    331\u001B[0m ):\n\u001B[1;32m    333\u001B[0m     \u001B[38;5;28;01mif\u001B[39;00m (\n\u001B[1;32m    334\u001B[0m         \u001B[38;5;28misinstance\u001B[39m(data, (SingleBlockManager, SingleArrayManager))\n\u001B[1;32m    335\u001B[0m         \u001B[38;5;129;01mand\u001B[39;00m index \u001B[38;5;129;01mis\u001B[39;00m \u001B[38;5;28;01mNone\u001B[39;00m\n\u001B[0;32m   (...)\u001B[0m\n\u001B[1;32m    338\u001B[0m     ):\n\u001B[1;32m    339\u001B[0m         \u001B[38;5;66;03m# GH#33357 called with just the SingleBlockManager\u001B[39;00m\n\u001B[0;32m--> 340\u001B[0m         \u001B[43mNDFrame\u001B[49m\u001B[38;5;241m.\u001B[39m\u001B[38;5;21m__init__\u001B[39m(\u001B[38;5;28mself\u001B[39m, data)\n\u001B[1;32m    341\u001B[0m         \u001B[38;5;28;01mif\u001B[39;00m fastpath:\n\u001B[1;32m    342\u001B[0m             \u001B[38;5;66;03m# e.g. from _box_col_values, skip validation of name\u001B[39;00m\n\u001B[1;32m    343\u001B[0m             \u001B[38;5;28mobject\u001B[39m\u001B[38;5;241m.\u001B[39m\u001B[38;5;21m__setattr__\u001B[39m(\u001B[38;5;28mself\u001B[39m, \u001B[38;5;124m\"\u001B[39m\u001B[38;5;124m_name\u001B[39m\u001B[38;5;124m\"\u001B[39m, name)\n",
      "\u001B[0;31mKeyboardInterrupt\u001B[0m: "
     ]
    }
   ],
   "source": [
    "with open('config.yaml', 'r') as file:\n",
    "    config = yaml.load(file, Loader=yaml.FullLoader)\n",
    "\n",
    "config['num_data'] = 1000\n",
    "a,b,c = run_exp(config)"
   ],
   "metadata": {
    "collapsed": false,
    "ExecuteTime": {
     "end_time": "2023-08-16T13:54:15.397996Z",
     "start_time": "2023-08-16T13:53:58.799589Z"
    }
   }
  },
  {
   "cell_type": "code",
   "execution_count": null,
   "outputs": [],
   "source": [
    "plot_comparison(a,b,c)"
   ],
   "metadata": {
    "collapsed": false,
    "ExecuteTime": {
     "start_time": "2023-08-16T13:54:15.393975Z"
    }
   }
  }
 ],
 "metadata": {
  "kernelspec": {
   "display_name": "Python 3",
   "language": "python",
   "name": "python3"
  },
  "language_info": {
   "codemirror_mode": {
    "name": "ipython",
    "version": 2
   },
   "file_extension": ".py",
   "mimetype": "text/x-python",
   "name": "python",
   "nbconvert_exporter": "python",
   "pygments_lexer": "ipython2",
   "version": "2.7.6"
  }
 },
 "nbformat": 4,
 "nbformat_minor": 0
}
