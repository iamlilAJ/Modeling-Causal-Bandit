{
 "cells": [
  {
   "cell_type": "code",
   "execution_count": 34,
   "metadata": {
    "collapsed": true,
    "ExecuteTime": {
     "end_time": "2023-08-14T07:57:20.109395Z",
     "start_time": "2023-08-14T07:57:20.093726Z"
    }
   },
   "outputs": [],
   "source": [
    "from Train import Trainer, Tester\n",
    "from LinUCB_Algo import  LinUCB\n",
    "from learn_bayesian_network import Bayesian_Model_Bandit\n",
    "from binary_value_graph import  Binary_Graph\n",
    "from matplotlib import pyplot as plt\n"
   ]
  },
  {
   "cell_type": "code",
   "execution_count": 35,
   "outputs": [],
   "source": [
    "num_node = 10\n",
    "bmb = Bayesian_Model_Bandit(num_node)\n",
    "bmb.collect_data()\n",
    "bmb.data = bmb.data.iloc[:50]\n",
    "bmb.learn()"
   ],
   "metadata": {
    "collapsed": false,
    "ExecuteTime": {
     "end_time": "2023-08-14T07:57:20.298775Z",
     "start_time": "2023-08-14T07:57:20.100820Z"
    }
   }
  },
  {
   "cell_type": "code",
   "execution_count": 36,
   "outputs": [],
   "source": [
    "ucb = LinUCB(num_arms=  bmb.node_number - 1, num_features= bmb.node_number - 1, alpha= 1.2)\n",
    "trainer = Trainer(bmb, ucb)"
   ],
   "metadata": {
    "collapsed": false,
    "ExecuteTime": {
     "end_time": "2023-08-14T07:57:20.299101Z",
     "start_time": "2023-08-14T07:57:20.253609Z"
    }
   }
  },
  {
   "cell_type": "code",
   "execution_count": 37,
   "outputs": [
    {
     "name": "stderr",
     "output_type": "stream",
     "text": [
      "100%|██████████| 200/200 [00:19<00:00, 10.20it/s]\n"
     ]
    }
   ],
   "source": [
    "trainer.train(n_rounds= 200, show_progress=True)"
   ],
   "metadata": {
    "collapsed": false,
    "ExecuteTime": {
     "end_time": "2023-08-14T07:57:39.877492Z",
     "start_time": "2023-08-14T07:57:20.257427Z"
    }
   }
  },
  {
   "cell_type": "markdown",
   "source": [],
   "metadata": {
    "collapsed": false
   }
  },
  {
   "cell_type": "code",
   "execution_count": 38,
   "outputs": [
    {
     "data": {
      "text/plain": "  0%|          | 0/10 [00:00<?, ?it/s]",
      "application/vnd.jupyter.widget-view+json": {
       "version_major": 2,
       "version_minor": 0,
       "model_id": "4a250f0dd51146aa9261b84c83260de6"
      }
     },
     "metadata": {},
     "output_type": "display_data"
    },
    {
     "data": {
      "text/plain": "   Y  x_6  x_4  x_3  x_8  x_2  x_5  x_9  x_1  x_7\n0  0    0    0    0    0    0    0    0    1    0",
      "text/html": "<div>\n<style scoped>\n    .dataframe tbody tr th:only-of-type {\n        vertical-align: middle;\n    }\n\n    .dataframe tbody tr th {\n        vertical-align: top;\n    }\n\n    .dataframe thead th {\n        text-align: right;\n    }\n</style>\n<table border=\"1\" class=\"dataframe\">\n  <thead>\n    <tr style=\"text-align: right;\">\n      <th></th>\n      <th>Y</th>\n      <th>x_6</th>\n      <th>x_4</th>\n      <th>x_3</th>\n      <th>x_8</th>\n      <th>x_2</th>\n      <th>x_5</th>\n      <th>x_9</th>\n      <th>x_1</th>\n      <th>x_7</th>\n    </tr>\n  </thead>\n  <tbody>\n    <tr>\n      <th>0</th>\n      <td>0</td>\n      <td>0</td>\n      <td>0</td>\n      <td>0</td>\n      <td>0</td>\n      <td>0</td>\n      <td>0</td>\n      <td>0</td>\n      <td>1</td>\n      <td>0</td>\n    </tr>\n  </tbody>\n</table>\n</div>"
     },
     "execution_count": 38,
     "metadata": {},
     "output_type": "execute_result"
    }
   ],
   "source": [
    "bmb.simulate(n_samples=1)"
   ],
   "metadata": {
    "collapsed": false,
    "ExecuteTime": {
     "end_time": "2023-08-14T07:57:39.952158Z",
     "start_time": "2023-08-14T07:57:39.880557Z"
    }
   }
  },
  {
   "cell_type": "code",
   "execution_count": 39,
   "outputs": [
    {
     "name": "stdout",
     "output_type": "stream",
     "text": [
      "+--------+------+\n",
      "| x_2(0) | 0.58 |\n",
      "+--------+------+\n",
      "| x_2(1) | 0.42 |\n",
      "+--------+------+\n"
     ]
    }
   ],
   "source": [
    "print(bmb.get_cpds('x_2'))"
   ],
   "metadata": {
    "collapsed": false,
    "ExecuteTime": {
     "end_time": "2023-08-14T07:57:39.961901Z",
     "start_time": "2023-08-14T07:57:39.954554Z"
    }
   }
  },
  {
   "cell_type": "code",
   "execution_count": 39,
   "outputs": [],
   "source": [],
   "metadata": {
    "collapsed": false,
    "ExecuteTime": {
     "end_time": "2023-08-14T07:57:39.962063Z",
     "start_time": "2023-08-14T07:57:39.958475Z"
    }
   }
  },
  {
   "cell_type": "code",
   "execution_count": 40,
   "outputs": [
    {
     "data": {
      "text/plain": "[array([[ 0.06467214],\n        [-0.1010385 ],\n        [ 0.18648071],\n        [ 0.13999175],\n        [ 0.13999175],\n        [-0.14175383],\n        [ 0.04285232],\n        [ 0.12158362],\n        [-0.01533386]]),\n array([[ 0.01432786],\n        [-0.16465041],\n        [ 0.30224023],\n        [ 0.10174899],\n        [ 0.10174899],\n        [ 0.11702263],\n        [ 0.0007905 ],\n        [ 0.17204726],\n        [-0.02505611]]),\n array([[-0.1984127 ],\n        [ 0.11287478],\n        [ 0.16093474],\n        [ 0.06613757],\n        [ 0.06613757],\n        [ 0.2319224 ],\n        [-0.01940035],\n        [-0.04276896],\n        [-0.13536155]]),\n array([[ 0.06374641],\n        [ 0.03637769],\n        [ 0.22220911],\n        [-0.0740575 ],\n        [-0.0740575 ],\n        [-0.08063722],\n        [-0.14418425],\n        [ 0.08567883],\n        [ 0.38955871]]),\n array([[ 0.00982639],\n        [ 0.14194413],\n        [ 0.2732286 ],\n        [ 0.09438049],\n        [-0.16638629],\n        [-0.03436288],\n        [ 0.11659205],\n        [ 0.05598289],\n        [ 0.09146794]]),\n array([[ 0.51796312],\n        [-0.18987913],\n        [-0.22941081],\n        [ 0.38280923],\n        [-0.08476687],\n        [-0.08347961],\n        [-0.06126185],\n        [ 0.49341324],\n        [-0.27419184]]),\n array([[ 0.17827367],\n        [ 0.01612851],\n        [ 0.10712496],\n        [ 0.34704167],\n        [-0.0735244 ],\n        [-0.05236871],\n        [ 0.24169032],\n        [-0.13651099],\n        [-0.27019548]]),\n array([[ 0.03298617],\n        [ 0.55363426],\n        [-0.0862082 ],\n        [-0.11234384],\n        [-0.16372635],\n        [ 0.2724876 ],\n        [-0.21258038],\n        [-0.18702003],\n        [ 0.01379869]]),\n array([[-0.04804206],\n        [ 0.07360406],\n        [ 0.18645758],\n        [ 0.33824329],\n        [-0.11149384],\n        [-0.15251088],\n        [ 0.04749819],\n        [-0.20889231],\n        [ 0.06680566]])]"
     },
     "execution_count": 40,
     "metadata": {},
     "output_type": "execute_result"
    }
   ],
   "source": [
    "algo = trainer.algo\n",
    "algo.theta"
   ],
   "metadata": {
    "collapsed": false,
    "ExecuteTime": {
     "end_time": "2023-08-14T07:57:39.971990Z",
     "start_time": "2023-08-14T07:57:39.965292Z"
    }
   }
  },
  {
   "cell_type": "code",
   "execution_count": 41,
   "outputs": [
    {
     "name": "stderr",
     "output_type": "stream",
     "text": [
      "100%|██████████| 500/500 [02:12<00:00,  3.77it/s]\n"
     ]
    }
   ],
   "source": [
    "import os\n",
    "env = Binary_Graph(num_node=num_node)\n",
    "test = Tester(env, algo,bmb, 50, 100)\n",
    "dic_path = os.path.join('/Users/liuanjie/PycharmProjects/pythonProject19/CAUSAL/causal_bandit/model/data/', f'{num_node}_node_env.json')\n",
    "test.load_dic(dic_path = dic_path)\n",
    "test.test(n_rounds=500, compare=True, online_update=True)"
   ],
   "metadata": {
    "collapsed": false,
    "ExecuteTime": {
     "end_time": "2023-08-14T07:59:52.683751Z",
     "start_time": "2023-08-14T07:57:39.973627Z"
    }
   }
  },
  {
   "cell_type": "code",
   "execution_count": 42,
   "outputs": [
    {
     "data": {
      "text/plain": "<Figure size 432x288 with 2 Axes>",
      "image/png": "[encoded data removed]"
     },
     "metadata": {
      "needs_background": "light"
     },
     "output_type": "display_data"
    }
   ],
   "source": [
    "test.plot_compare()"
   ],
   "metadata": {
    "collapsed": false,
    "ExecuteTime": {
     "end_time": "2023-08-14T07:59:52.984980Z",
     "start_time": "2023-08-14T07:59:52.689651Z"
    }
   }
  },
  {
   "cell_type": "code",
   "execution_count": 43,
   "outputs": [
    {
     "data": {
      "text/plain": "     x_1  x_2  x_3  x_4  x_5  x_6  x_7  x_8  x_9    Y\n0    0.0  0.0  0.0  0.0  0.0  0.0  0.0  0.0  0.0  0.0\n1    0.0  0.0  1.0  0.0  0.0  1.0  0.0  0.0  0.0  0.0\n2    0.0  0.0  1.0  0.0  0.0  0.0  0.0  0.0  0.0  0.0\n3    1.0  1.0  1.0  0.0  0.0  0.0  1.0  1.0  1.0  0.0\n4    0.0  1.0  0.0  1.0  1.0  0.0  0.0  1.0  0.0  0.0\n..   ...  ...  ...  ...  ...  ...  ...  ...  ...  ...\n947  NaN  NaN  NaN  NaN  NaN  NaN  NaN  NaN  NaN  0.0\n948  NaN  NaN  NaN  NaN  NaN  NaN  NaN  NaN  NaN  0.0\n949  NaN  NaN  NaN  NaN  NaN  NaN  NaN  0.0  0.0  0.0\n950  NaN  NaN  NaN  NaN  NaN  0.0  NaN  0.0  0.0  0.0\n951  NaN  NaN  NaN  NaN  NaN  NaN  NaN  NaN  NaN  0.0\n\n[952 rows x 10 columns]",
      "text/html": "<div>\n<style scoped>\n    .dataframe tbody tr th:only-of-type {\n        vertical-align: middle;\n    }\n\n    .dataframe tbody tr th {\n        vertical-align: top;\n    }\n\n    .dataframe thead th {\n        text-align: right;\n    }\n</style>\n<table border=\"1\" class=\"dataframe\">\n  <thead>\n    <tr style=\"text-align: right;\">\n      <th></th>\n      <th>x_1</th>\n      <th>x_2</th>\n      <th>x_3</th>\n      <th>x_4</th>\n      <th>x_5</th>\n      <th>x_6</th>\n      <th>x_7</th>\n      <th>x_8</th>\n      <th>x_9</th>\n      <th>Y</th>\n    </tr>\n  </thead>\n  <tbody>\n    <tr>\n      <th>0</th>\n      <td>0.0</td>\n      <td>0.0</td>\n      <td>0.0</td>\n      <td>0.0</td>\n      <td>0.0</td>\n      <td>0.0</td>\n      <td>0.0</td>\n      <td>0.0</td>\n      <td>0.0</td>\n      <td>0.0</td>\n    </tr>\n    <tr>\n      <th>1</th>\n      <td>0.0</td>\n      <td>0.0</td>\n      <td>1.0</td>\n      <td>0.0</td>\n      <td>0.0</td>\n      <td>1.0</td>\n      <td>0.0</td>\n      <td>0.0</td>\n      <td>0.0</td>\n      <td>0.0</td>\n    </tr>\n    <tr>\n      <th>2</th>\n      <td>0.0</td>\n      <td>0.0</td>\n      <td>1.0</td>\n      <td>0.0</td>\n      <td>0.0</td>\n      <td>0.0</td>\n      <td>0.0</td>\n      <td>0.0</td>\n      <td>0.0</td>\n      <td>0.0</td>\n    </tr>\n    <tr>\n      <th>3</th>\n      <td>1.0</td>\n      <td>1.0</td>\n      <td>1.0</td>\n      <td>0.0</td>\n      <td>0.0</td>\n      <td>0.0</td>\n      <td>1.0</td>\n      <td>1.0</td>\n      <td>1.0</td>\n      <td>0.0</td>\n    </tr>\n    <tr>\n      <th>4</th>\n      <td>0.0</td>\n      <td>1.0</td>\n      <td>0.0</td>\n      <td>1.0</td>\n      <td>1.0</td>\n      <td>0.0</td>\n      <td>0.0</td>\n      <td>1.0</td>\n      <td>0.0</td>\n      <td>0.0</td>\n    </tr>\n    <tr>\n      <th>...</th>\n      <td>...</td>\n      <td>...</td>\n      <td>...</td>\n      <td>...</td>\n      <td>...</td>\n      <td>...</td>\n      <td>...</td>\n      <td>...</td>\n      <td>...</td>\n      <td>...</td>\n    </tr>\n    <tr>\n      <th>947</th>\n      <td>NaN</td>\n      <td>NaN</td>\n      <td>NaN</td>\n      <td>NaN</td>\n      <td>NaN</td>\n      <td>NaN</td>\n      <td>NaN</td>\n      <td>NaN</td>\n      <td>NaN</td>\n      <td>0.0</td>\n    </tr>\n    <tr>\n      <th>948</th>\n      <td>NaN</td>\n      <td>NaN</td>\n      <td>NaN</td>\n      <td>NaN</td>\n      <td>NaN</td>\n      <td>NaN</td>\n      <td>NaN</td>\n      <td>NaN</td>\n      <td>NaN</td>\n      <td>0.0</td>\n    </tr>\n    <tr>\n      <th>949</th>\n      <td>NaN</td>\n      <td>NaN</td>\n      <td>NaN</td>\n      <td>NaN</td>\n      <td>NaN</td>\n      <td>NaN</td>\n      <td>NaN</td>\n      <td>0.0</td>\n      <td>0.0</td>\n      <td>0.0</td>\n    </tr>\n    <tr>\n      <th>950</th>\n      <td>NaN</td>\n      <td>NaN</td>\n      <td>NaN</td>\n      <td>NaN</td>\n      <td>NaN</td>\n      <td>0.0</td>\n      <td>NaN</td>\n      <td>0.0</td>\n      <td>0.0</td>\n      <td>0.0</td>\n    </tr>\n    <tr>\n      <th>951</th>\n      <td>NaN</td>\n      <td>NaN</td>\n      <td>NaN</td>\n      <td>NaN</td>\n      <td>NaN</td>\n      <td>NaN</td>\n      <td>NaN</td>\n      <td>NaN</td>\n      <td>NaN</td>\n      <td>0.0</td>\n    </tr>\n  </tbody>\n</table>\n<p>952 rows × 10 columns</p>\n</div>"
     },
     "execution_count": 43,
     "metadata": {},
     "output_type": "execute_result"
    }
   ],
   "source": [
    "test.model.data"
   ],
   "metadata": {
    "collapsed": false,
    "ExecuteTime": {
     "end_time": "2023-08-14T07:59:53.015613Z",
     "start_time": "2023-08-14T07:59:52.985557Z"
    }
   }
  },
  {
   "cell_type": "code",
   "execution_count": 44,
   "outputs": [
    {
     "data": {
      "text/plain": "[<matplotlib.lines.Line2D at 0x7f91a02c3970>]"
     },
     "execution_count": 44,
     "metadata": {},
     "output_type": "execute_result"
    },
    {
     "data": {
      "text/plain": "<Figure size 432x288 with 1 Axes>",
      "image/png": "[encoded data removed]"
     },
     "metadata": {
      "needs_background": "light"
     },
     "output_type": "display_data"
    }
   ],
   "source": [
    "plt.plot(test.regret_list, color=\"green\", label=\"Model-Based Regret\")\n",
    "#plt.plot(test.baseline_regret_list, color=\"blue\", label=\"Baseline Regret\")\n",
    "plt.plot(test.online_regret_list, color='yellow', label='online update Regret')"
   ],
   "metadata": {
    "collapsed": false,
    "ExecuteTime": {
     "end_time": "2023-08-14T07:59:53.198052Z",
     "start_time": "2023-08-14T07:59:53.015764Z"
    }
   }
  }
 ],
 "metadata": {
  "kernelspec": {
   "display_name": "Python 3",
   "language": "python",
   "name": "python3"
  },
  "language_info": {
   "codemirror_mode": {
    "name": "ipython",
    "version": 2
   },
   "file_extension": ".py",
   "mimetype": "text/x-python",
   "name": "python",
   "nbconvert_exporter": "python",
   "pygments_lexer": "ipython2",
   "version": "2.7.6"
  }
 },
 "nbformat": 4,
 "nbformat_minor": 0
}
